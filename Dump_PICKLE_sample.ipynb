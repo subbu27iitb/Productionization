{
  "nbformat": 4,
  "nbformat_minor": 0,
  "metadata": {
    "colab": {
      "provenance": [],
      "authorship_tag": "ABX9TyPT7WjH68YJdcU7NWnO0GBA",
      "include_colab_link": true
    },
    "kernelspec": {
      "name": "python3",
      "display_name": "Python 3"
    },
    "language_info": {
      "name": "python"
    }
  },
  "cells": [
    {
      "cell_type": "markdown",
      "metadata": {
        "id": "view-in-github",
        "colab_type": "text"
      },
      "source": [
        "<a href=\"https://colab.research.google.com/github/subbu27iitb/Productionization/blob/main/Dump_PICKLE_sample.ipynb\" target=\"_parent\"><img src=\"https://colab.research.google.com/assets/colab-badge.svg\" alt=\"Open In Colab\"/></a>"
      ]
    },
    {
      "cell_type": "code",
      "execution_count": 48,
      "metadata": {
        "id": "z9UDIlplZ8Rs"
      },
      "outputs": [],
      "source": [
        "import numpy as np\n",
        "import pandas as pd\n",
        "import matplotlib.pyplot as plt\n"
      ]
    },
    {
      "cell_type": "markdown",
      "source": [
        "**Create linear regression \"model\"**"
      ],
      "metadata": {
        "id": "i5V4Uq-vv_2D"
      }
    },
    {
      "cell_type": "code",
      "source": [
        "x = np.array([2,3,4,5,8,9,12,16]).reshape(-1,1)\n",
        "y=np.array([5,7,9,11,17,19,25,33]).reshape(-1,1)\n",
        "\n",
        "from sklearn.linear_model import LinearRegression\n",
        "model=LinearRegression()\n",
        "model.fit(x,y)\n",
        "pred_result = model.predict([[35]])\n",
        "pred_result"
      ],
      "metadata": {
        "colab": {
          "base_uri": "https://localhost:8080/"
        },
        "id": "pss_uk_ycjf3",
        "outputId": "42647009-1053-48b2-8d52-99f24a57ae2a"
      },
      "execution_count": 53,
      "outputs": [
        {
          "output_type": "execute_result",
          "data": {
            "text/plain": [
              "array([[71.]])"
            ]
          },
          "metadata": {},
          "execution_count": 53
        }
      ]
    },
    {
      "cell_type": "markdown",
      "source": [
        "**DUMP \"model\" into PICKLE**"
      ],
      "metadata": {
        "id": "EsVEDL5rwiyq"
      }
    },
    {
      "cell_type": "code",
      "source": [
        "import pickle\n",
        "filename ='linear_reg'\n",
        "pickle.dump(model,open(filename,'wb'))\n"
      ],
      "metadata": {
        "id": "JarCrmHodKJQ"
      },
      "execution_count": 52,
      "outputs": []
    }
  ]
}